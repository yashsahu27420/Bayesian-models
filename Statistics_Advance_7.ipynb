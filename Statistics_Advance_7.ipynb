{
  "nbformat": 4,
  "nbformat_minor": 0,
  "metadata": {
    "colab": {
      "provenance": [],
      "authorship_tag": "ABX9TyMWeQ1AwyDZrXz6B4eOd8lV"
    },
    "kernelspec": {
      "name": "python3",
      "display_name": "Python 3"
    },
    "language_info": {
      "name": "python"
    }
  },
  "cells": [
    {
      "cell_type": "code",
      "source": [
        "from scipy.stats import f\n",
        "import numpy as np"
      ],
      "metadata": {
        "id": "BHOxoJmEv5ap"
      },
      "execution_count": 8,
      "outputs": []
    },
    {
      "cell_type": "code",
      "execution_count": 9,
      "metadata": {
        "id": "MZWoeJXYvTdv"
      },
      "outputs": [],
      "source": [
        "#Q1. Calculate F-value and p-value for Variance Ratio Test\n",
        "\n",
        "def variance_ratio_test(data1, data2):\n",
        "    f_statistic, p_value = np.var(data1) / np.var(data2), f(data1, data2).pvalue\n",
        "    return f_statistic, p_value\n"
      ]
    },
    {
      "cell_type": "code",
      "source": [
        "#Q2. Calculate Critical F-value for Two-Tailed Test\n",
        "\n",
        "def critical_f_value(alpha, df_num, df_denom):\n",
        "    critical_value = f.ppf(1 - alpha/2, df_num, df_denom)\n",
        "    return critical_value\n"
      ],
      "metadata": {
        "id": "ZGGW5brHvg9c"
      },
      "execution_count": 10,
      "outputs": []
    },
    {
      "cell_type": "code",
      "source": [
        "#Q3. F-Test for Equal Variances\n",
        "\n",
        "def equal_variances_test(data1, data2):\n",
        "    f_statistic, p_value = np.var(data1) / np.var(data2), f(data1, data2).pvalue\n",
        "    return f_statistic, p_value\n"
      ],
      "metadata": {
        "id": "A1ZXVMH1vygZ"
      },
      "execution_count": 12,
      "outputs": []
    },
    {
      "cell_type": "code",
      "source": [
        "#Q4. Conduct F-Test for Known Variances\n",
        "\n",
        "def f_test_known_variances(variance1, variance2, n1, n2, alpha=0.05):\n",
        "    f_critical = f.ppf(1 - alpha/2, n1 - 1, n2 - 1)\n",
        "    f_statistic = variance1 / variance2\n",
        "    return f_statistic, f_critical\n"
      ],
      "metadata": {
        "id": "52Fq9930vyjP"
      },
      "execution_count": 13,
      "outputs": []
    },
    {
      "cell_type": "code",
      "source": [
        "#Q5. Conduct F-Test for Claim Justification\n",
        "\n",
        "def f_test_claim_justification(sample_variance, claimed_variance, n, alpha=0.01):\n",
        "    f_critical = f.ppf(1 - alpha, n - 1, 1)\n",
        "    f_statistic = sample_variance / claimed_variance\n",
        "    return f_statistic, f_critical\n"
      ],
      "metadata": {
        "id": "gL9xdEwRvymL"
      },
      "execution_count": 14,
      "outputs": []
    },
    {
      "cell_type": "code",
      "source": [
        "\n",
        "#Q6. Calculate Mean and Variance of F-distribution\n",
        "\n",
        "def f_distribution_mean_variance(df_num, df_denom):\n",
        "    mean = df_denom / (df_denom - 2)\n",
        "    variance = (2 * (df_denom**2) * (df_num + df_denom - 2)) / (df_num * (df_denom - 2)**2 * (df_denom - 4))\n",
        "    return mean, variance\n"
      ],
      "metadata": {
        "id": "CdW5sJu2vypZ"
      },
      "execution_count": 15,
      "outputs": []
    },
    {
      "cell_type": "code",
      "source": [
        "#Q7. F-Test for Unknown Variances\n",
        "\n",
        "def f_test_unknown_variances(sample_variance1, df1, sample_variance2, df2, alpha=0.1):\n",
        "    f_critical = f.ppf(1 - alpha / 2, df1, df2)\n",
        "    f_statistic = sample_variance1 / sample_variance2\n",
        "    return f_statistic, f_critical\n"
      ],
      "metadata": {
        "id": "PxbnRrQevysI"
      },
      "execution_count": 16,
      "outputs": []
    },
    {
      "cell_type": "code",
      "source": [
        "#Q8. F-Test for Waiting Times\n",
        "\n",
        "def f_test_waiting_times(restaurant_A, restaurant_B, alpha=0.05):\n",
        "    f_statistic, p_value = np.var(restaurant_A) / np.var(restaurant_B), f(restaurant_A, restaurant_B).pvalue\n",
        "    return f_statistic, p_value\n"
      ],
      "metadata": {
        "id": "FIb2jkRHvyvK"
      },
      "execution_count": 18,
      "outputs": []
    },
    {
      "cell_type": "code",
      "source": [
        "#Q9.F-Test for Test Scores\n",
        "\n",
        "def f_test_test_scores(group_A, group_B, alpha=0.01):\n",
        "    f_statistic, p_value = np.var(group_A) / np.var(group_B), f(group_A, group_B).pvalue\n",
        "    return f_statistic, p_value"
      ],
      "metadata": {
        "id": "NTrtdIzrvyxo"
      },
      "execution_count": 19,
      "outputs": []
    },
    {
      "cell_type": "code",
      "source": [],
      "metadata": {
        "id": "0YF_VMgbvy0-"
      },
      "execution_count": null,
      "outputs": []
    }
  ]
}